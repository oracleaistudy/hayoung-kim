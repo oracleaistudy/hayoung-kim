{
 "cells": [
  {
   "cell_type": "code",
   "execution_count": null,
   "id": "59e9ebf6",
   "metadata": {},
   "outputs": [],
   "source": [
    "# Ch 03-3 특성 공학과 규제\n",
    "\n",
    "여러 특성을 사용한 다중 회귀에 대해 배우고 사이킷런의 여러 도구를 사용해봅시다.\n",
    "복잡한 모델의 과대적합을 막기 위한 릿지와 라쏘 회귀를 배웁니다.\n",
    "\n"
   ]
  }
 ],
 "metadata": {
  "language_info": {
   "name": "python"
  }
 },
 "nbformat": 4,
 "nbformat_minor": 5
}
